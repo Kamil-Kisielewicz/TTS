{
 "cells": [
  {
   "cell_type": "markdown",
   "metadata": {},
   "source": [
    "This notebook runs the given model over all the benchmark sentences and show their alignment, stop-token prediction and spectrogram plot in order."
   ]
  },
  {
   "cell_type": "code",
   "execution_count": null,
   "metadata": {},
   "outputs": [],
   "source": [
    "cd ~/projects/"
   ]
  },
  {
   "cell_type": "code",
   "execution_count": null,
   "metadata": {
    "scrolled": true
   },
   "outputs": [],
   "source": [
    "%load_ext autoreload\n",
    "%autoreload 2\n",
    "import os\n",
    "import sys\n",
    "import io\n",
    "import torch \n",
    "import time\n",
    "import numpy as np\n",
    "from collections import OrderedDict\n",
    "from matplotlib import pylab as plt\n",
    "\n",
    "%pylab inline\n",
    "rcParams[\"figure.figsize\"] = (16,5)\n",
    "# sys.path.append('/home/erogol/projects/') # set this if TTS is not installed globally\n",
    "\n",
    "import librosa\n",
    "import librosa.display\n",
    "\n",
    "from TTS.models.tacotron import Tacotron \n",
    "from TTS.layers import *\n",
    "from TTS.utils.data import *\n",
    "from TTS.utils.audio import AudioProcessor\n",
    "from TTS.utils.generic_utils import load_config\n",
    "from TTS.utils.text import text_to_sequence\n",
    "from TTS.utils.synthesis import synthesis\n",
    "from TTS.utils.visual import visualize\n",
    "\n",
    "import IPython\n",
    "from IPython.display import Audio\n"
   ]
  },
  {
   "cell_type": "code",
   "execution_count": null,
   "metadata": {},
   "outputs": [],
   "source": [
    "def tts(model, text, CONFIG, use_cuda, ap, figures=True):\n",
    "    t_1 = time.time()\n",
    "    waveform, alignment, spectrogram, mel_spectrogram, stop_tokens = synthesis(model, text, CONFIG, use_cuda, ap) \n",
    "    print(\" >  Run-time: {}\".format(time.time() - t_1))\n",
    "    if figures:                                                                                                         \n",
    "        visualize(alignment, spectrogram, stop_tokens, text, ap.hop_length, CONFIG, mel_spectrogram)                                                                       \n",
    "    IPython.display.display(Audio(waveform, rate=CONFIG.audio['sample_rate']))  \n",
    "    out_path = '/home/erogol/Dropbox/AudioSamples/benchmark_samples/'\n",
    "    os.makedirs(out_path, exist_ok=True)\n",
    "    file_name = text.replace(\" \", \"_\").replace(\".\",\"\") + \".wav\"\n",
    "    out_path = os.path.join(out_path, file_name)\n",
    "    ap.save_wav(waveform, out_path)\n",
    "    return alignment, spectrogram, stop_tokens"
   ]
  },
  {
   "cell_type": "code",
   "execution_count": null,
   "metadata": {},
   "outputs": [],
   "source": [
    "# Set constants\n",
    "ROOT_PATH = '/home/erogol/test_model/'\n",
    "MODEL_PATH = ROOT_PATH + 'best_model.pth.tar'\n",
    "CONFIG_PATH = ROOT_PATH + '/config.json'\n",
    "OUT_FOLDER = ROOT_PATH + '/test'\n",
    "CONFIG = load_config(CONFIG_PATH)\n",
    "use_cuda = True"
   ]
  },
  {
   "cell_type": "code",
   "execution_count": null,
   "metadata": {},
   "outputs": [],
   "source": [
    "from utils.text.symbols import symbols, phonemes\n",
    "\n",
    "# load the model\n",
    "num_chars = len(phonemes) if CONFIG.use_phonemes else len(symbols)\n",
    "model = Tacotron(num_chars, CONFIG.embedding_size, CONFIG.audio['num_freq'], CONFIG.audio['num_mels'], CONFIG.r, attn_windowing=False)\n",
    "\n",
    "# load the audio processor\n",
    "# CONFIG.audio[\"power\"] = 1.3\n",
    "CONFIG.audio[\"preemphasis\"] = 0.97\n",
    "ap = AudioProcessor(**CONFIG.audio)         \n",
    "\n",
    "\n",
    "# load model state\n",
    "if use_cuda:\n",
    "    cp = torch.load(MODEL_PATH)\n",
    "else:\n",
    "    cp = torch.load(MODEL_PATH, map_location=lambda storage, loc: storage)\n",
    "\n",
    "# load the model\n",
    "model.load_state_dict(cp['model'])\n",
    "if use_cuda:\n",
    "    model.cuda()\n",
    "model.eval()\n",
    "print(cp['step'])\n",
    "\n"
   ]
  },
  {
   "cell_type": "markdown",
   "metadata": {},
   "source": [
    "### Comparision with https://mycroft.ai/blog/available-voices/"
   ]
  },
  {
   "cell_type": "code",
   "execution_count": null,
   "metadata": {},
   "outputs": [],
   "source": [
    "model.eval()\n",
    "sentence =  \"It took me quite a long time to develop a voice, and now that I have it I'm not going to be silent.\"\n",
    "model.decoder.max_decoder_steps = 1000\n",
    "align, spec, stop_tokens = tts(model, sentence, CONFIG, use_cuda, ap, figures=True)"
   ]
  },
  {
   "cell_type": "code",
   "execution_count": null,
   "metadata": {
    "scrolled": true
   },
   "outputs": [],
   "source": [
    "sentence = \"Be a voice,not an echo.\"  # 'echo' is not in training set. \n",
    "align, spec, stop_tokens = tts(model, sentence, CONFIG, use_cuda, ap)"
   ]
  },
  {
   "cell_type": "code",
   "execution_count": null,
   "metadata": {},
   "outputs": [],
   "source": [
    "sentence = \"The human voice is the most perfect instrument of all.\"\n",
    "align, spec, stop_tokens = tts(model, sentence, CONFIG, use_cuda, ap)"
   ]
  },
  {
   "cell_type": "code",
   "execution_count": null,
   "metadata": {},
   "outputs": [],
   "source": [
    "sentence = \"I'm sorry Dave. I'm afraid I can't do that .\"\n",
    "align, spec, stop_tokens = tts(model, sentence, CONFIG, use_cuda, ap)"
   ]
  },
  {
   "cell_type": "code",
   "execution_count": null,
   "metadata": {},
   "outputs": [],
   "source": [
    "sentence = \"This cake is great. It's so delicious and moist .\"\n",
    "align, spec, stop_tokens = tts(model, sentence, CONFIG, use_cuda, ap)"
   ]
  },
  {
   "cell_type": "code",
   "execution_count": null,
   "metadata": {
    "scrolled": true
   },
   "outputs": [],
   "source": [
    "sentence = \"This cake is great. It's so delicious and moist.\"\n",
    "align, spec, stop_tokens = tts(model, sentence, CONFIG, use_cuda, ap)"
   ]
  },
  {
   "cell_type": "markdown",
   "metadata": {},
   "source": [
    "### Comparison with https://keithito.github.io/audio-samples/"
   ]
  },
  {
   "cell_type": "code",
   "execution_count": null,
   "metadata": {},
   "outputs": [],
   "source": [
    "sentence = \" Generative adversarial network or variational auto-encoder.\"\n",
    "align, spec, stop_tokens = tts(model, sentence, CONFIG, use_cuda, ap)"
   ]
  },
  {
   "cell_type": "code",
   "execution_count": null,
   "metadata": {},
   "outputs": [],
   "source": [
    "sentence = \"Scientists at the CERN laboratory say they have discovered a new particle.\"\n",
    "align, spec, stop_tokens = tts(model, sentence, CONFIG, use_cuda, ap)"
   ]
  },
  {
   "cell_type": "code",
   "execution_count": null,
   "metadata": {},
   "outputs": [],
   "source": [
    "sentence = \"Here’s a way to measure the acute emotional intelligence that has never gone out of style.\"\n",
    "align, spec, stop_tokens = tts(model, sentence, CONFIG, use_cuda, ap)"
   ]
  },
  {
   "cell_type": "code",
   "execution_count": null,
   "metadata": {},
   "outputs": [],
   "source": [
    "sentence = \"President Trump met with other leaders at the Group of 20 conference.\"\n",
    "align, spec, stop_tokens = tts(model, sentence, CONFIG, use_cuda, ap)"
   ]
  },
  {
   "cell_type": "code",
   "execution_count": null,
   "metadata": {},
   "outputs": [],
   "source": [
    "sentence = \"The buses aren't the problem, they actually provide a solution.\"\n",
    "align, spec, stop_tokens = tts(model, sentence, CONFIG, use_cuda, ap)"
   ]
  },
  {
   "cell_type": "markdown",
   "metadata": {},
   "source": [
    "### Comparison with https://google.github.io/tacotron/publications/tacotron/index.html"
   ]
  },
  {
   "cell_type": "code",
   "execution_count": null,
   "metadata": {},
   "outputs": [],
   "source": [
    "sentence = \"Generative adversarial network or variational auto-encoder.\"\n",
    "align, spec, stop_tokens = tts(model, sentence, CONFIG, use_cuda, ap)"
   ]
  },
  {
   "cell_type": "code",
   "execution_count": null,
   "metadata": {},
   "outputs": [],
   "source": [
    "sentence = \"Basilar membrane and otolaryngology are not auto-correlations.\"\n",
    "align, spec, stop_tokens = tts(model, sentence, CONFIG, use_cuda, ap)"
   ]
  },
  {
   "cell_type": "code",
   "execution_count": null,
   "metadata": {},
   "outputs": [],
   "source": [
    "sentence = \" He has read the whole thing.\"\n",
    "align, spec, stop_tokens = tts(model, sentence, CONFIG, use_cuda, ap)"
   ]
  },
  {
   "cell_type": "code",
   "execution_count": null,
   "metadata": {},
   "outputs": [],
   "source": [
    "sentence = \"He reads books.\"\n",
    "align, spec, stop_tokens = tts(model, sentence, CONFIG, use_cuda, ap)"
   ]
  },
  {
   "cell_type": "code",
   "execution_count": null,
   "metadata": {},
   "outputs": [],
   "source": [
    "sentence = \"Thisss isrealy awhsome.\"\n",
    "align, spec, stop_tokens = tts(model, sentence, CONFIG, use_cuda, ap)"
   ]
  },
  {
   "cell_type": "code",
   "execution_count": null,
   "metadata": {},
   "outputs": [],
   "source": [
    "sentence = \"This is your internet browser, Firefox.\"\n",
    "align, spec, stop_tokens = tts(model, sentence, CONFIG, use_cuda, ap)"
   ]
  },
  {
   "cell_type": "code",
   "execution_count": null,
   "metadata": {},
   "outputs": [],
   "source": [
    "sentence = \"This is your internet browser Firefox.\"\n",
    "align, spec, stop_tokens = tts(model, sentence, CONFIG, use_cuda, ap)"
   ]
  },
  {
   "cell_type": "code",
   "execution_count": null,
   "metadata": {},
   "outputs": [],
   "source": [
    "sentence = \"The quick brown fox jumps over the lazy dog.\"\n",
    "align, spec, stop_tokens = tts(model, sentence, CONFIG, use_cuda, ap)"
   ]
  },
  {
   "cell_type": "code",
   "execution_count": null,
   "metadata": {},
   "outputs": [],
   "source": [
    "sentence = \"Does the quick brown fox jump over the lazy dog?\"\n",
    "align, spec, stop_tokens = tts(model, sentence, CONFIG, use_cuda, ap)"
   ]
  },
  {
   "cell_type": "code",
   "execution_count": null,
   "metadata": {},
   "outputs": [],
   "source": [
    "sentence = \"Eren, how are you?\"\n",
    "align, spec, stop_tokens = tts(model, sentence, CONFIG, use_cuda, ap)"
   ]
  },
  {
   "cell_type": "markdown",
   "metadata": {},
   "source": [
    "### Hard Sentences"
   ]
  },
  {
   "cell_type": "code",
   "execution_count": null,
   "metadata": {},
   "outputs": [],
   "source": [
    "sentence = \"Encouraged, he started with a minute a day.\"\n",
    "align, spec, stop_tokens = tts(model, sentence, CONFIG, use_cuda, ap)"
   ]
  },
  {
   "cell_type": "code",
   "execution_count": null,
   "metadata": {},
   "outputs": [],
   "source": [
    "sentence = \"His meditation consisted of “body scanning” which involved focusing his mind and energy on each section of the body from head to toe .\"\n",
    "align, spec, stop_tokens = tts(model, sentence, CONFIG, use_cuda, ap)"
   ]
  },
  {
   "cell_type": "code",
   "execution_count": null,
   "metadata": {},
   "outputs": [],
   "source": [
    "sentence = \"Recent research at Harvard has shown meditating for as little as 8 weeks can actually increase the grey matter in the parts of the brain responsible for emotional regulation and learning . \"\n",
    "align, spec, stop_tokens = tts(model, sentence, CONFIG, use_cuda, ap)"
   ]
  },
  {
   "cell_type": "code",
   "execution_count": null,
   "metadata": {
    "scrolled": true
   },
   "outputs": [],
   "source": [
    "sentence = \"If he decided to watch TV he really watched it.\"\n",
    "align, spec, stop_tokens = tts(model, sentence, CONFIG, use_cuda, ap)"
   ]
  },
  {
   "cell_type": "code",
   "execution_count": null,
   "metadata": {
    "scrolled": true
   },
   "outputs": [],
   "source": [
    "sentence = \"Often we try to bring about change through sheer effort and we put all of our energy into a new initiative .\"\n",
    "align, spec, stop_tokens = tts(model, sentence, CONFIG, use_cuda, ap)"
   ]
  },
  {
   "cell_type": "code",
   "execution_count": null,
   "metadata": {},
   "outputs": [],
   "source": [
    "# for twb dataset\n",
    "sentence = \"In our preparation for Easter, God in his providence offers us each year the season of Lent as a “sacramental sign of our conversion.\"\n",
    "align, spec, stop_tokens = tts(model, sentence, CONFIG, use_cuda, ap)"
   ]
  },
  {
   "cell_type": "code",
   "execution_count": null,
   "metadata": {},
   "outputs": [],
   "source": [
    "!zip benchmark_samples/samples.zip benchmark_samples/*"
   ]
  }
 ],
 "metadata": {
  "kernelspec": {
   "display_name": "Python 3",
   "language": "python",
   "name": "python3"
  },
  "language_info": {
   "codemirror_mode": {
    "name": "ipython",
    "version": 3
   },
   "file_extension": ".py",
   "mimetype": "text/x-python",
   "name": "python",
   "nbconvert_exporter": "python",
   "pygments_lexer": "ipython3",
   "version": "3.7.3"
  }
 },
 "nbformat": 4,
 "nbformat_minor": 4
}
